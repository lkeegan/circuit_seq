{
 "cells": [
  {
   "cell_type": "markdown",
   "id": "7db139b8-96d8-4811-955a-d575248ebf35",
   "metadata": {},
   "source": [
    "# SampleFlow API examples"
   ]
  },
  {
   "cell_type": "code",
   "execution_count": 45,
   "id": "b8414412-a212-46bc-ab8f-3ffb3dafb2b5",
   "metadata": {},
   "outputs": [],
   "source": [
    "import requests\n",
    "import os\n",
    "import pandas as pd\n",
    "import zipfile\n",
    "import io\n",
    "import shutil"
   ]
  },
  {
   "cell_type": "code",
   "execution_count": 2,
   "id": "5acb0ccb-2359-40f4-a2de-968cfc036cec",
   "metadata": {
    "tags": []
   },
   "outputs": [],
   "source": [
    "rest_api_url = \"https://circuitseq.iwr.uni-heidelberg.de/api\""
   ]
  },
  {
   "cell_type": "markdown",
   "id": "ecebdd0a-7379-44e2-a51f-1b213432087a",
   "metadata": {},
   "source": [
    "## Public API\n",
    "\n",
    "This can be accessed by anyone without requiring an authorization token."
   ]
  },
  {
   "cell_type": "markdown",
   "id": "60bbc363-8c08-4a80-a7fa-be8f99f2af84",
   "metadata": {
    "tags": []
   },
   "source": [
    "### `/remaining`\n",
    "\n",
    "- returns how many samples are still available this week\n",
    "- doesn't require an authentication token"
   ]
  },
  {
   "cell_type": "code",
   "execution_count": 3,
   "id": "a3c8dd18-0a8d-4c1c-a5ca-0d30afee4109",
   "metadata": {},
   "outputs": [],
   "source": [
    "# requests is the standard Python library for this:\n",
    "response = requests.get(f\"{rest_api_url}/remaining\")"
   ]
  },
  {
   "cell_type": "code",
   "execution_count": 4,
   "id": "b1abefac-a700-4400-9687-2628396a23f2",
   "metadata": {},
   "outputs": [
    {
     "data": {
      "text/plain": [
       "200"
      ]
     },
     "execution_count": 4,
     "metadata": {},
     "output_type": "execute_result"
    }
   ],
   "source": [
    "# status code is 200 on success, 401 or other if something went wrong:\n",
    "response.status_code"
   ]
  },
  {
   "cell_type": "code",
   "execution_count": 5,
   "id": "5dde50e9-2203-4595-a5fd-88930798b1c2",
   "metadata": {
    "tags": []
   },
   "outputs": [
    {
     "data": {
      "text/plain": [
       "{'message': '', 'remaining': 95}"
      ]
     },
     "execution_count": 5,
     "metadata": {},
     "output_type": "execute_result"
    }
   ],
   "source": [
    "# the request returns data in json format (which is converted to a Python dict by requests):\n",
    "response.json()"
   ]
  },
  {
   "cell_type": "markdown",
   "id": "23d6d4c8-487b-443f-a3be-be4d1f41cb76",
   "metadata": {},
   "source": [
    "## Admin API\n",
    "\n",
    "An authorization token for an admin account is required"
   ]
  },
  {
   "cell_type": "code",
   "execution_count": 6,
   "id": "be92051d-7065-4816-b27a-194a181479b5",
   "metadata": {},
   "outputs": [],
   "source": [
    "# if we try to access an admin endpoint without suitable authentication we get an error:\n",
    "response = requests.get(f\"{rest_api_url}/admin/samples\")"
   ]
  },
  {
   "cell_type": "code",
   "execution_count": 7,
   "id": "83c6b66c-ddd7-4ece-b8d5-94869cbcb880",
   "metadata": {},
   "outputs": [
    {
     "data": {
      "text/plain": [
       "401"
      ]
     },
     "execution_count": 7,
     "metadata": {},
     "output_type": "execute_result"
    }
   ],
   "source": [
    "response.status_code"
   ]
  },
  {
   "cell_type": "code",
   "execution_count": 8,
   "id": "cdba07ca-09df-49ed-bafe-d63361d898c8",
   "metadata": {},
   "outputs": [
    {
     "data": {
      "text/plain": [
       "{'msg': 'Missing Authorization Header'}"
      ]
     },
     "execution_count": 8,
     "metadata": {},
     "output_type": "execute_result"
    }
   ],
   "source": [
    "response.json()"
   ]
  },
  {
   "cell_type": "markdown",
   "id": "cd8681d2-9e33-43bf-bcfd-93d157f22516",
   "metadata": {},
   "source": [
    "## Auth token\n",
    "- you can get create an API token from the admin page\n",
    "- then export it as an evironment variable on your computer e.g. `export CIRCUITSEQ_API_TOKEN=abca12421...`\n",
    "- need to add this token to your header when making requests if you want to authenticate yourself\n",
    "- if your token expires your previously working authorized request will return a 401 or 422 status code\n",
    "  - generating a new token from the admin page and exporting it should fix this"
   ]
  },
  {
   "cell_type": "code",
   "execution_count": 18,
   "id": "8a8d2556-4b1b-4c4d-bfa6-e7f0786668fd",
   "metadata": {},
   "outputs": [],
   "source": [
    "# get the API token from the environment variable (better not to directly add it to your script)\n",
    "auth_token = os.environ[\"CIRCUITSEQ_API_TOKEN\"]\n",
    "# make an authorization header for requests to use\n",
    "auth_header = {\"Authorization\": f\"Bearer {auth_token}\"}"
   ]
  },
  {
   "cell_type": "markdown",
   "id": "a7570c1d-46e7-45c9-af50-487ce9a9d0ad",
   "metadata": {
    "tags": []
   },
   "source": [
    "### `/admin/samples`\n",
    "\n",
    "- returns current samples and previous samples"
   ]
  },
  {
   "cell_type": "code",
   "execution_count": 19,
   "id": "2b7a182a-fcb6-4c7d-b024-e432820e9e37",
   "metadata": {},
   "outputs": [],
   "source": [
    "response = requests.get(f\"{rest_api_url}/admin/samples\", headers=auth_header)"
   ]
  },
  {
   "cell_type": "code",
   "execution_count": 20,
   "id": "7f35b3b3-31eb-4bd3-ade1-d2684a465980",
   "metadata": {},
   "outputs": [
    {
     "data": {
      "text/plain": [
       "200"
      ]
     },
     "execution_count": 20,
     "metadata": {},
     "output_type": "execute_result"
    }
   ],
   "source": [
    "response.status_code"
   ]
  },
  {
   "cell_type": "code",
   "execution_count": 21,
   "id": "8e2b19df-3d7c-488a-a268-774b72eff83a",
   "metadata": {},
   "outputs": [
    {
     "data": {
      "text/plain": [
       "dict_keys(['current_samples', 'previous_samples'])"
      ]
     },
     "execution_count": 21,
     "metadata": {},
     "output_type": "execute_result"
    }
   ],
   "source": [
    "response.json().keys()"
   ]
  },
  {
   "cell_type": "code",
   "execution_count": 24,
   "id": "ed81303f-5c08-47fa-9c02-4ca1c0486fa2",
   "metadata": {},
   "outputs": [
    {
     "data": {
      "text/html": [
       "<div>\n",
       "<style scoped>\n",
       "    .dataframe tbody tr th:only-of-type {\n",
       "        vertical-align: middle;\n",
       "    }\n",
       "\n",
       "    .dataframe tbody tr th {\n",
       "        vertical-align: top;\n",
       "    }\n",
       "\n",
       "    .dataframe thead th {\n",
       "        text-align: right;\n",
       "    }\n",
       "</style>\n",
       "<table border=\"1\" class=\"dataframe\">\n",
       "  <thead>\n",
       "    <tr style=\"text-align: right;\">\n",
       "      <th></th>\n",
       "      <th>concentration</th>\n",
       "      <th>date</th>\n",
       "      <th>email</th>\n",
       "      <th>has_reference_seq_zip</th>\n",
       "      <th>has_results_zip</th>\n",
       "      <th>id</th>\n",
       "      <th>name</th>\n",
       "      <th>primary_key</th>\n",
       "      <th>running_option</th>\n",
       "      <th>tube_primary_key</th>\n",
       "    </tr>\n",
       "  </thead>\n",
       "  <tbody>\n",
       "    <tr>\n",
       "      <th>0</th>\n",
       "      <td>456</td>\n",
       "      <td>Wed, 14 Jun 2023 00:00:00 GMT</td>\n",
       "      <td>RESUBMITTED</td>\n",
       "      <td>True</td>\n",
       "      <td>False</td>\n",
       "      <td>93</td>\n",
       "      <td>test_concentration</td>\n",
       "      <td>23_24_A1</td>\n",
       "      <td></td>\n",
       "      <td>22_50_A1</td>\n",
       "    </tr>\n",
       "  </tbody>\n",
       "</table>\n",
       "</div>"
      ],
      "text/plain": [
       "   concentration                           date        email  \\\n",
       "0            456  Wed, 14 Jun 2023 00:00:00 GMT  RESUBMITTED   \n",
       "\n",
       "   has_reference_seq_zip  has_results_zip  id                name primary_key  \\\n",
       "0                   True            False  93  test_concentration    23_24_A1   \n",
       "\n",
       "  running_option tube_primary_key  \n",
       "0                        22_50_A1  "
      ]
     },
     "execution_count": 24,
     "metadata": {},
     "output_type": "execute_result"
    }
   ],
   "source": [
    "pd.DataFrame(response.json()[\"current_samples\"])"
   ]
  },
  {
   "cell_type": "markdown",
   "id": "a84addea-7a54-4dc2-97a6-1ed13221bc1e",
   "metadata": {
    "tags": []
   },
   "source": [
    "### `/admin/zipsamples`\n",
    "\n",
    "- download a zipfile with a tsv of the samples table and reference sequence fasta files for this week"
   ]
  },
  {
   "cell_type": "code",
   "execution_count": 32,
   "id": "c0181862-392f-467b-b29e-1d6297fe2865",
   "metadata": {},
   "outputs": [],
   "source": [
    "response = requests.post(f\"{rest_api_url}/admin/zipsamples\", headers=auth_header)"
   ]
  },
  {
   "cell_type": "code",
   "execution_count": null,
   "id": "8f0038bb",
   "metadata": {},
   "outputs": [],
   "source": [
    "response.status_code"
   ]
  },
  {
   "cell_type": "code",
   "execution_count": 43,
   "id": "363a53ac",
   "metadata": {},
   "outputs": [
    {
     "name": "stdout",
     "output_type": "stream",
     "text": [
      "['references/', 'samples.tsv', 'references/23_24_A1_test_concentration.zip']\n"
     ]
    }
   ],
   "source": [
    "# inspect contents of returned zip file:\n",
    "zip_file = zipfile.ZipFile(io.BytesIO(response.content))\n",
    "print(f\"{zip_file.namelist()}\")"
   ]
  },
  {
   "cell_type": "code",
   "execution_count": 44,
   "id": "a081472f-c287-4fae-a065-27dd12499bcf",
   "metadata": {},
   "outputs": [],
   "source": [
    "# write downloaded binary data to a file:\n",
    "with open(\"samples.zip\", \"wb\") as f:\n",
    "    f.write(response.content)"
   ]
  },
  {
   "cell_type": "markdown",
   "id": "e493c495-fc1a-41b9-964a-67ab74244e34",
   "metadata": {
    "tags": []
   },
   "source": [
    "### `/admin/result`\n",
    "\n",
    "- upload success or failure status for results of sample analysis"
   ]
  },
  {
   "cell_type": "markdown",
   "id": "24bc3791",
   "metadata": {
    "tags": []
   },
   "source": [
    "#### Upload an unsuccessful result\n",
    "\n",
    "- you need to provide\n",
    "  - `primary_key`: the primary key of the sample\n",
    "  - `success=\"false\"`: success status of analysis\n",
    "- zip file not required\n",
    "- if the primary key is valid the user will receive an email with the unsuccessful analysis status\n",
    "- otherwise a diagnostic message will be returned"
   ]
  },
  {
   "cell_type": "code",
   "execution_count": 53,
   "id": "fdb4bb38",
   "metadata": {},
   "outputs": [],
   "source": [
    "response = requests.post(\n",
    "    f\"{rest_api_url}/admin/result\",\n",
    "    data={\"primary_key\": \"22_50_A1\", \"success\": \"false\"},\n",
    "    headers=auth_header,\n",
    ")"
   ]
  },
  {
   "cell_type": "code",
   "execution_count": 54,
   "id": "148afd96",
   "metadata": {},
   "outputs": [
    {
     "data": {
      "text/plain": [
       "200"
      ]
     },
     "execution_count": 54,
     "metadata": {},
     "output_type": "execute_result"
    }
   ],
   "source": [
    "response.status_code"
   ]
  },
  {
   "cell_type": "code",
   "execution_count": 55,
   "id": "3ebb9066",
   "metadata": {
    "scrolled": true
   },
   "outputs": [
    {
     "data": {
      "text/plain": [
       "{'message': 'Results email for 22_50_A1 sent to liam.keegan@iwr.uni-heidelberg.de'}"
      ]
     },
     "execution_count": 55,
     "metadata": {},
     "output_type": "execute_result"
    }
   ],
   "source": [
    "response.json()"
   ]
  },
  {
   "cell_type": "markdown",
   "id": "512139ea",
   "metadata": {
    "tags": []
   },
   "source": [
    "#### Upload a successful result\n",
    "\n",
    "- you need to provide\n",
    "  - `primary_key`: the primary key of the sample\n",
    "  - `success=\"true\"`: success status of analysis\n",
    "  - `file`: a zipfile containing the results (if analysis was successful)\n",
    "    - if the zipfile contains a text file called `email.txt`\n",
    "    - any filenames listed in that file will be extracted from the zipfile and emailed to the user\n",
    "- returns the path on the server where the zipfile is stored\n",
    "  - the user will also receive an email with fasta/gbk results attached\n",
    "- on failure a diagnostic message will be returned"
   ]
  },
  {
   "cell_type": "code",
   "execution_count": 56,
   "id": "a55eef87",
   "metadata": {},
   "outputs": [],
   "source": [
    "# this assumes you have created a zip file named `22_50_A1.zip` containing the results:\n",
    "with open(\"22_50_A1.zip\", \"rb\") as f:\n",
    "    response = requests.post(\n",
    "        f\"{rest_api_url}/admin/result\",\n",
    "        data={\"primary_key\": \"22_50_A1\", \"success\": \"true\"},\n",
    "        files={\"file\": f},\n",
    "        headers=auth_header,\n",
    "    )"
   ]
  },
  {
   "cell_type": "code",
   "execution_count": 57,
   "id": "f39d5460",
   "metadata": {
    "scrolled": true
   },
   "outputs": [
    {
     "data": {
      "text/plain": [
       "200"
      ]
     },
     "execution_count": 57,
     "metadata": {},
     "output_type": "execute_result"
    }
   ],
   "source": [
    "response.status_code"
   ]
  },
  {
   "cell_type": "code",
   "execution_count": 58,
   "id": "73ee2b93",
   "metadata": {
    "scrolled": true
   },
   "outputs": [
    {
     "data": {
      "text/plain": [
       "{'message': 'Results file saved, Results email for 22_50_A1 sent to liam.keegan@iwr.uni-heidelberg.de'}"
      ]
     },
     "execution_count": 58,
     "metadata": {},
     "output_type": "execute_result"
    }
   ],
   "source": [
    "response.json()"
   ]
  },
  {
   "cell_type": "code",
   "execution_count": null,
   "id": "933b9713",
   "metadata": {},
   "outputs": [],
   "source": []
  }
 ],
 "metadata": {
  "kernelspec": {
   "display_name": "Python 3 (ipykernel)",
   "language": "python",
   "name": "python3"
  },
  "language_info": {
   "codemirror_mode": {
    "name": "ipython",
    "version": 3
   },
   "file_extension": ".py",
   "mimetype": "text/x-python",
   "name": "python",
   "nbconvert_exporter": "python",
   "pygments_lexer": "ipython3",
   "version": "3.10.9"
  }
 },
 "nbformat": 4,
 "nbformat_minor": 5
}
