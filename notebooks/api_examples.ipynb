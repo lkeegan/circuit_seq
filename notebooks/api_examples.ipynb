{
 "cells": [
  {
   "cell_type": "markdown",
   "id": "7db139b8-96d8-4811-955a-d575248ebf35",
   "metadata": {},
   "source": [
    "# CircuitSEQ API examples"
   ]
  },
  {
   "cell_type": "code",
   "execution_count": 1,
   "id": "b8414412-a212-46bc-ab8f-3ffb3dafb2b5",
   "metadata": {},
   "outputs": [],
   "source": [
    "import requests\n",
    "import os\n",
    "import pandas as pd"
   ]
  },
  {
   "cell_type": "code",
   "execution_count": 19,
   "id": "5acb0ccb-2359-40f4-a2de-968cfc036cec",
   "metadata": {
    "tags": []
   },
   "outputs": [],
   "source": [
    "rest_api_url = \"https://circuitseq.iwr.uni-heidelberg.de/api\""
   ]
  },
  {
   "cell_type": "markdown",
   "id": "ecebdd0a-7379-44e2-a51f-1b213432087a",
   "metadata": {},
   "source": [
    "## Public API\n",
    "\n",
    "This can be accessed by anyone without requiring an authorization token."
   ]
  },
  {
   "cell_type": "markdown",
   "id": "60bbc363-8c08-4a80-a7fa-be8f99f2af84",
   "metadata": {
    "tags": []
   },
   "source": [
    "### `/remaining`\n",
    "\n",
    "- returns how many samples are still available this week\n",
    "- doesn't require an authentication token"
   ]
  },
  {
   "cell_type": "code",
   "execution_count": 10,
   "id": "a3c8dd18-0a8d-4c1c-a5ca-0d30afee4109",
   "metadata": {},
   "outputs": [
    {
     "name": "stderr",
     "output_type": "stream",
     "text": [
      "/home/lkeegan/.pyenv/versions/3.9.4/lib/python3.9/site-packages/urllib3/connectionpool.py:1043: InsecureRequestWarning: Unverified HTTPS request is being made to host 'localhost'. Adding certificate verification is strongly advised. See: https://urllib3.readthedocs.io/en/1.26.x/advanced-usage.html#ssl-warnings\n",
      "  warnings.warn(\n"
     ]
    }
   ],
   "source": [
    "# requests is the standard Python library for this:\n",
    "response = requests.get(f\"{rest_api_url}/remaining\")"
   ]
  },
  {
   "cell_type": "code",
   "execution_count": 11,
   "id": "b1abefac-a700-4400-9687-2628396a23f2",
   "metadata": {},
   "outputs": [
    {
     "data": {
      "text/plain": [
       "200"
      ]
     },
     "execution_count": 11,
     "metadata": {},
     "output_type": "execute_result"
    }
   ],
   "source": [
    "# status code is 200 on success, 401 or other if something went wrong:\n",
    "response.status_code"
   ]
  },
  {
   "cell_type": "code",
   "execution_count": 12,
   "id": "5dde50e9-2203-4595-a5fd-88930798b1c2",
   "metadata": {
    "tags": []
   },
   "outputs": [
    {
     "data": {
      "text/plain": [
       "{'message': '', 'remaining': 90}"
      ]
     },
     "execution_count": 12,
     "metadata": {},
     "output_type": "execute_result"
    }
   ],
   "source": [
    "# the request returns data in json format (which is converted to a Python dict by requests):\n",
    "response.json()"
   ]
  },
  {
   "cell_type": "markdown",
   "id": "23d6d4c8-487b-443f-a3be-be4d1f41cb76",
   "metadata": {},
   "source": [
    "## Admin API\n",
    "\n",
    "An authorization token for an admin account is required"
   ]
  },
  {
   "cell_type": "code",
   "execution_count": null,
   "id": "be92051d-7065-4816-b27a-194a181479b5",
   "metadata": {},
   "outputs": [],
   "source": [
    "# if we try to access an admin endpoint without suitable authentication we get an error:\n",
    "response = requests.get(f\"{rest_api_url}/admin/samples\")"
   ]
  },
  {
   "cell_type": "code",
   "execution_count": null,
   "id": "83c6b66c-ddd7-4ece-b8d5-94869cbcb880",
   "metadata": {},
   "outputs": [],
   "source": [
    "response.status_code"
   ]
  },
  {
   "cell_type": "code",
   "execution_count": null,
   "id": "cdba07ca-09df-49ed-bafe-d63361d898c8",
   "metadata": {},
   "outputs": [],
   "source": [
    "response.json()"
   ]
  },
  {
   "cell_type": "markdown",
   "id": "cd8681d2-9e33-43bf-bcfd-93d157f22516",
   "metadata": {},
   "source": [
    "## Auth token\n",
    "- you can get create an API token from the admin page\n",
    "- then export it as an evironment variable on your computer e.g. `export CIRCUITSEQ_API_TOKEN=abca12421...`\n",
    "- need to add this token to your header when making requests if you want to authenticate yourself\n",
    "- NOTE: currently these tokens are invalidated whenever the code is updated & the server is restarted (which is currently quite often!)\n",
    "  - if this happends your previously working authorized request will return a 422 status code with `Signature verification failed` in the json\n",
    "  - generating a new token from the admin page and exporting it should fix this"
   ]
  },
  {
   "cell_type": "code",
   "execution_count": 14,
   "id": "8a8d2556-4b1b-4c4d-bfa6-e7f0786668fd",
   "metadata": {},
   "outputs": [],
   "source": [
    "# get the API token from the environment variable (better not to directly add it to your script)\n",
    "auth_token = os.environ[\"CIRCUITSEQ_API_TOKEN\"]\n",
    "# make an authorization header for requests to use\n",
    "auth_header = {\"Authorization\": f\"Bearer {auth_token}\"}"
   ]
  },
  {
   "cell_type": "markdown",
   "id": "a7570c1d-46e7-45c9-af50-487ce9a9d0ad",
   "metadata": {
    "tags": []
   },
   "source": [
    "### `/admin/samples`\n",
    "\n",
    "- returns current samples and previous samples"
   ]
  },
  {
   "cell_type": "code",
   "execution_count": 15,
   "id": "2b7a182a-fcb6-4c7d-b024-e432820e9e37",
   "metadata": {},
   "outputs": [
    {
     "name": "stderr",
     "output_type": "stream",
     "text": [
      "/home/lkeegan/.pyenv/versions/3.9.4/lib/python3.9/site-packages/urllib3/connectionpool.py:1043: InsecureRequestWarning: Unverified HTTPS request is being made to host 'localhost'. Adding certificate verification is strongly advised. See: https://urllib3.readthedocs.io/en/1.26.x/advanced-usage.html#ssl-warnings\n",
      "  warnings.warn(\n"
     ]
    }
   ],
   "source": [
    "response = requests.get(f\"{rest_api_url}/admin/samples\", headers=auth_header)"
   ]
  },
  {
   "cell_type": "code",
   "execution_count": 16,
   "id": "7f35b3b3-31eb-4bd3-ade1-d2684a465980",
   "metadata": {},
   "outputs": [
    {
     "data": {
      "text/plain": [
       "200"
      ]
     },
     "execution_count": 16,
     "metadata": {},
     "output_type": "execute_result"
    }
   ],
   "source": [
    "response.status_code"
   ]
  },
  {
   "cell_type": "code",
   "execution_count": 17,
   "id": "8e2b19df-3d7c-488a-a268-774b72eff83a",
   "metadata": {},
   "outputs": [
    {
     "data": {
      "text/plain": [
       "dict_keys(['current_samples', 'previous_samples'])"
      ]
     },
     "execution_count": 17,
     "metadata": {},
     "output_type": "execute_result"
    }
   ],
   "source": [
    "response.json().keys()"
   ]
  },
  {
   "cell_type": "code",
   "execution_count": 18,
   "id": "ed81303f-5c08-47fa-9c02-4ca1c0486fa2",
   "metadata": {},
   "outputs": [
    {
     "data": {
      "text/html": [
       "<div>\n",
       "<style scoped>\n",
       "    .dataframe tbody tr th:only-of-type {\n",
       "        vertical-align: middle;\n",
       "    }\n",
       "\n",
       "    .dataframe tbody tr th {\n",
       "        vertical-align: top;\n",
       "    }\n",
       "\n",
       "    .dataframe thead th {\n",
       "        text-align: right;\n",
       "    }\n",
       "</style>\n",
       "<table border=\"1\" class=\"dataframe\">\n",
       "  <thead>\n",
       "    <tr style=\"text-align: right;\">\n",
       "      <th></th>\n",
       "      <th>concentration</th>\n",
       "      <th>date</th>\n",
       "      <th>email</th>\n",
       "      <th>has_results_fasta</th>\n",
       "      <th>has_results_gbk</th>\n",
       "      <th>has_results_zip</th>\n",
       "      <th>id</th>\n",
       "      <th>name</th>\n",
       "      <th>primary_key</th>\n",
       "      <th>reference_sequence_description</th>\n",
       "      <th>running_option</th>\n",
       "    </tr>\n",
       "  </thead>\n",
       "  <tbody>\n",
       "    <tr>\n",
       "      <th>0</th>\n",
       "      <td>200</td>\n",
       "      <td>Tue, 13 Dec 2022 00:00:00 GMT</td>\n",
       "      <td>liam.keegan@iwr.uni-heidelberg.de</td>\n",
       "      <td>False</td>\n",
       "      <td>False</td>\n",
       "      <td>False</td>\n",
       "      <td>1</td>\n",
       "      <td>asd</td>\n",
       "      <td>22_50_A1</td>\n",
       "      <td>None</td>\n",
       "      <td>afsadf</td>\n",
       "    </tr>\n",
       "    <tr>\n",
       "      <th>1</th>\n",
       "      <td>999</td>\n",
       "      <td>Tue, 13 Dec 2022 00:00:00 GMT</td>\n",
       "      <td>liam.keegan@iwr.uni-heidelberg.de</td>\n",
       "      <td>False</td>\n",
       "      <td>False</td>\n",
       "      <td>False</td>\n",
       "      <td>2</td>\n",
       "      <td>234</td>\n",
       "      <td>22_50_A2</td>\n",
       "      <td>Reference</td>\n",
       "      <td>afsadf</td>\n",
       "    </tr>\n",
       "    <tr>\n",
       "      <th>2</th>\n",
       "      <td>800</td>\n",
       "      <td>Tue, 13 Dec 2022 00:00:00 GMT</td>\n",
       "      <td>liam.keegan@iwr.uni-heidelberg.de</td>\n",
       "      <td>False</td>\n",
       "      <td>False</td>\n",
       "      <td>False</td>\n",
       "      <td>3</td>\n",
       "      <td>sgsdf</td>\n",
       "      <td>22_50_A3</td>\n",
       "      <td>None</td>\n",
       "      <td>afsadf</td>\n",
       "    </tr>\n",
       "    <tr>\n",
       "      <th>3</th>\n",
       "      <td>200</td>\n",
       "      <td>Tue, 13 Dec 2022 00:00:00 GMT</td>\n",
       "      <td>liam.keegan@iwr.uni-heidelberg.de</td>\n",
       "      <td>False</td>\n",
       "      <td>False</td>\n",
       "      <td>False</td>\n",
       "      <td>4</td>\n",
       "      <td>sdfsdf</td>\n",
       "      <td>22_50_A4</td>\n",
       "      <td>None</td>\n",
       "      <td>afsadf</td>\n",
       "    </tr>\n",
       "    <tr>\n",
       "      <th>4</th>\n",
       "      <td>202</td>\n",
       "      <td>Tue, 13 Dec 2022 00:00:00 GMT</td>\n",
       "      <td>liam.keegan@iwr.uni-heidelberg.de</td>\n",
       "      <td>False</td>\n",
       "      <td>False</td>\n",
       "      <td>False</td>\n",
       "      <td>5</td>\n",
       "      <td>fddf</td>\n",
       "      <td>22_50_A5</td>\n",
       "      <td>None</td>\n",
       "      <td>afsadf</td>\n",
       "    </tr>\n",
       "    <tr>\n",
       "      <th>5</th>\n",
       "      <td>666</td>\n",
       "      <td>Tue, 13 Dec 2022 00:00:00 GMT</td>\n",
       "      <td>liam.keegan@iwr.uni-heidelberg.de</td>\n",
       "      <td>False</td>\n",
       "      <td>False</td>\n",
       "      <td>False</td>\n",
       "      <td>6</td>\n",
       "      <td>adsfsdf</td>\n",
       "      <td>22_50_A6</td>\n",
       "      <td>Reference</td>\n",
       "      <td>sdfwfwe</td>\n",
       "    </tr>\n",
       "  </tbody>\n",
       "</table>\n",
       "</div>"
      ],
      "text/plain": [
       "   concentration                           date  \\\n",
       "0            200  Tue, 13 Dec 2022 00:00:00 GMT   \n",
       "1            999  Tue, 13 Dec 2022 00:00:00 GMT   \n",
       "2            800  Tue, 13 Dec 2022 00:00:00 GMT   \n",
       "3            200  Tue, 13 Dec 2022 00:00:00 GMT   \n",
       "4            202  Tue, 13 Dec 2022 00:00:00 GMT   \n",
       "5            666  Tue, 13 Dec 2022 00:00:00 GMT   \n",
       "\n",
       "                               email  has_results_fasta  has_results_gbk  \\\n",
       "0  liam.keegan@iwr.uni-heidelberg.de              False            False   \n",
       "1  liam.keegan@iwr.uni-heidelberg.de              False            False   \n",
       "2  liam.keegan@iwr.uni-heidelberg.de              False            False   \n",
       "3  liam.keegan@iwr.uni-heidelberg.de              False            False   \n",
       "4  liam.keegan@iwr.uni-heidelberg.de              False            False   \n",
       "5  liam.keegan@iwr.uni-heidelberg.de              False            False   \n",
       "\n",
       "   has_results_zip  id     name primary_key reference_sequence_description  \\\n",
       "0            False   1      asd    22_50_A1                           None   \n",
       "1            False   2      234    22_50_A2                      Reference   \n",
       "2            False   3    sgsdf    22_50_A3                           None   \n",
       "3            False   4   sdfsdf    22_50_A4                           None   \n",
       "4            False   5     fddf    22_50_A5                           None   \n",
       "5            False   6  adsfsdf    22_50_A6                      Reference   \n",
       "\n",
       "  running_option  \n",
       "0         afsadf  \n",
       "1         afsadf  \n",
       "2         afsadf  \n",
       "3         afsadf  \n",
       "4         afsadf  \n",
       "5        sdfwfwe  "
      ]
     },
     "execution_count": 18,
     "metadata": {},
     "output_type": "execute_result"
    }
   ],
   "source": [
    "pd.DataFrame(response.json()[\"current_samples\"])"
   ]
  },
  {
   "cell_type": "markdown",
   "id": "a84addea-7a54-4dc2-97a6-1ed13221bc1e",
   "metadata": {
    "tags": []
   },
   "source": [
    "### `/admin/zipsamples`\n",
    "\n",
    "- download a zipfile with a tsv of the samples table and reference sequence fasta files for this week"
   ]
  },
  {
   "cell_type": "code",
   "execution_count": null,
   "id": "c0181862-392f-467b-b29e-1d6297fe2865",
   "metadata": {},
   "outputs": [],
   "source": [
    "response = requests.post(f\"{rest_api_url}/admin/zipsamples\", headers=auth_header)"
   ]
  },
  {
   "cell_type": "code",
   "execution_count": null,
   "id": "b19628ef-ed00-4df0-8e3c-9dda4aeb949d",
   "metadata": {},
   "outputs": [],
   "source": [
    "response.status_code"
   ]
  },
  {
   "cell_type": "code",
   "execution_count": null,
   "id": "a081472f-c287-4fae-a065-27dd12499bcf",
   "metadata": {},
   "outputs": [],
   "source": [
    "# write downloaded binary data to a file:\n",
    "with open(\"samples.zip\", \"wb\") as f:\n",
    "    f.write(response.content)"
   ]
  },
  {
   "cell_type": "markdown",
   "id": "e493c495-fc1a-41b9-964a-67ab74244e34",
   "metadata": {
    "tags": []
   },
   "source": [
    "### `/admin/result`\n",
    "\n",
    "- upload a zipfile of results for a sample\n",
    "- assumes the zipfile is named `[PRIMARY_KEY]_[NAME].zip`\n",
    "- on success returns the path on the server where the zipfile is stored"
   ]
  },
  {
   "cell_type": "code",
   "execution_count": null,
   "id": "eaf9a407-de31-4514-9900-edf6593fdfb6",
   "metadata": {},
   "outputs": [],
   "source": [
    "with open(\n",
    "    \"../backend/tests/data/results/22_46_A2_ZIP_TEST_pMC_Final_Kan.zip\", \"rb\"\n",
    ") as f:\n",
    "    response = requests.post(\n",
    "        f\"{rest_api_url}/admin/result\", files={\"file\": f}, headers=auth_header\n",
    "    )"
   ]
  },
  {
   "cell_type": "code",
   "execution_count": null,
   "id": "3e39d57a-b08b-438d-bd92-a9d9c90970da",
   "metadata": {},
   "outputs": [],
   "source": [
    "response.status_code"
   ]
  },
  {
   "cell_type": "code",
   "execution_count": null,
   "id": "c5801429-df35-4f82-9ee9-d407e28149a1",
   "metadata": {},
   "outputs": [],
   "source": [
    "response.json()"
   ]
  }
 ],
 "metadata": {
  "kernelspec": {
   "display_name": "Python 3 (ipykernel)",
   "language": "python",
   "name": "python3"
  },
  "language_info": {
   "codemirror_mode": {
    "name": "ipython",
    "version": 3
   },
   "file_extension": ".py",
   "mimetype": "text/x-python",
   "name": "python",
   "nbconvert_exporter": "python",
   "pygments_lexer": "ipython3",
   "version": "3.9.4"
  }
 },
 "nbformat": 4,
 "nbformat_minor": 5
}
